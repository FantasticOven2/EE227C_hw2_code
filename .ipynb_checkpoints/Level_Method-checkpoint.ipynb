{
 "cells": [
  {
   "cell_type": "code",
   "execution_count": 3,
   "id": "b4b36a05",
   "metadata": {},
   "outputs": [],
   "source": [
    "import cvxpy as cvx\n",
    "import numpy as np\n",
    "import matplotlib.pyplot as plt"
   ]
  },
  {
   "cell_type": "code",
   "execution_count": 98,
   "id": "70c0f112",
   "metadata": {},
   "outputs": [],
   "source": [
    "e = np.exp(1)\n",
    "d = 10\n",
    "n = 5\n",
    "ITER = 50\n",
    "lamb = .1\n",
    "fstar = -0.8414077"
   ]
  },
  {
   "cell_type": "code",
   "execution_count": 99,
   "id": "70c0a7fd",
   "metadata": {},
   "outputs": [],
   "source": [
    "# Define the maxquad function\n",
    "A = np.zeros((n, d, d))\n",
    "b = np.zeros((n, d))\n",
    "\n",
    "for k in range(1,n+1,1):\n",
    "\tfor i in range(1,d+1,1):\n",
    "\t\tfor j in range(1,d+1,1):\n",
    "\t\t\tif j > i:\n",
    "\t\t\t\tA[k-1,i-1,j-1] = (e**(i/j)) * np.cos(i*j) * np.sin(k)\n",
    "\n",
    "\tfor i in range(1,d+1,1):\n",
    "\t\tfor j in range(1,d+1,1):\n",
    "\t\t\tif j < i:\n",
    "\t\t\t\tA[k-1,i-1,j-1] = A[k-1,j-1,i-1]\n",
    "\t\tb[k-1,i-1] = (e**(i/k)) * np.sin(i*k)\n",
    "\n",
    "\tfor i in range(1,d+1,1):\n",
    "\t\tA[k-1,i-1,i-1] = np.sum(np.abs(A[k-1,i-1,:])) + i/d * np.abs(np.sin(k))"
   ]
  },
  {
   "cell_type": "code",
   "execution_count": 100,
   "id": "568ce4f3",
   "metadata": {},
   "outputs": [],
   "source": [
    "# define evaluation of quad(k) on input x\n",
    "def quad(k,x):\n",
    "    return x.T @ A[k,:,:] @ x  - b[k,:] @ x\n",
    "\n",
    "# define maxquad function\n",
    "def maxquad(x):\n",
    "    return max([_quad(k,x) for k in np.arange(n)])\n",
    "\n",
    "# define maxquad gradient\n",
    "def maxquad_gradient(x):\n",
    "\tallevals = [_quad(k,x) for k in np.arange(n)]\n",
    "\tidx = np.argmax(allevals)\n",
    "\treturn 2*np.transpose(A[idx,:,:]) @ x - b[idx,:]"
   ]
  },
  {
   "cell_type": "code",
   "execution_count": 101,
   "id": "c472901e",
   "metadata": {},
   "outputs": [],
   "source": [
    "# # define evaluation of quad(k) on input x\n",
    "# def quad(k,x):\n",
    "#     return x.T @ A[k,:,:] @ x  - b[k,:] @ x\n",
    "\n",
    "# # define maxquad function\n",
    "# def maxquad(x):\n",
    "#     return cvx.max(cvx.hstack([quad(k,x) for k in np.arange(n)]))\n",
    "\n",
    "# # define maxquad gradient\n",
    "# def maxquad_gradient(x):\n",
    "# \tallevals = [quad(k,x) for k in np.arange(n)]\n",
    "# \tidx = np.argmax(allevals)\n",
    "# \treturn 2*np.transpose(A[idx,:,:]) @ x - b[idx,:]"
   ]
  },
  {
   "cell_type": "code",
   "execution_count": 102,
   "id": "636acd63",
   "metadata": {},
   "outputs": [
    {
     "data": {
      "text/plain": [
       "5337.0664293113605"
      ]
     },
     "execution_count": 102,
     "metadata": {},
     "output_type": "execute_result"
    }
   ],
   "source": [
    "maxquad(np.ones((10,)))"
   ]
  },
  {
   "cell_type": "code",
   "execution_count": 103,
   "id": "39033ead",
   "metadata": {},
   "outputs": [],
   "source": [
    "def f_i(x_lst, x):\n",
    "    return cvx.max(cvx.hstack([maxquad(x_j) + maxquad_gradient(x_j) @ (x - x_j) for x_j in x_lst]))\n",
    "\n",
    "def f_min(x_lst):\n",
    "    return min([maxquad(x_j) for x_j in x_lst])\n",
    "\n",
    "def min_f_i(f_i, x_lst):\n",
    "    x = cvx.Variable(shape=(d,), name = \"x\")\n",
    "    constraint = [cvx.norm(x, 2) <= 1]\n",
    "    obj = cvx.Minimize(f_i(x_lst, x))\n",
    "    prob = cvx.Problem(obj, constraint)\n",
    "    prob.solve()\n",
    "    return obj.value\n",
    "\n",
    "\"\"\"Euclidean projection\"\"\"\n",
    "def projection(x, x_lst, l_i):\n",
    "    y = cvx.Variable(shape=(d,), name = 'y')\n",
    "    obj = cvx.Minimize(cvx.norm(x - y, 2))\n",
    "    constraints = [cvx.norm(y, 2) <= 1, f_i(x_lst, y) <= l_i]\n",
    "    prob = cvx.Problem(obj, constraints)\n",
    "    prob.solve()\n",
    "    return y.value"
   ]
  },
  {
   "cell_type": "code",
   "execution_count": 114,
   "id": "c4414c0a",
   "metadata": {},
   "outputs": [],
   "source": [
    "def level_method():\n",
    "    x_1 = np.ones((10,)) \n",
    "    x_lst = np.array([x_1])\n",
    "    for i in range(ITER):\n",
    "        print(i)\n",
    "        f_minus, f_plus = min_f_i(f_i, x_lst), f_min(x_lst)\n",
    "        print('f-', f_minus, 'f+', f_plus)\n",
    "        l_i = lamb * f_minus + (1 - lamb) * f_plus\n",
    "        x_next = np.array([projection(x_lst[-1], x_lst, l_i)])\n",
    "#         print(l_i)\n",
    "        print(x_next)\n",
    "        x_lst = np.append(x_lst, x_next, axis=0)\n",
    "    return x_lst"
   ]
  },
  {
   "cell_type": "code",
   "execution_count": 117,
   "id": "3ee67731",
   "metadata": {
    "scrolled": true
   },
   "outputs": [
    {
     "name": "stdout",
     "output_type": "stream",
     "text": [
      "0\n",
      "f- -12889.512475110767 f+ 5337.0664293113605\n",
      "[[ 0.16362966  0.16340171  0.16286051  0.15981726  0.15268621  0.15470215\n",
      "   0.21451432  0.37639612  0.40465869 -0.70411305]]\n",
      "1\n",
      "f- -65.45205515062133 f+ 132.88948747586426\n",
      "[[ 0.15133104  0.11349466  0.10792134  0.18587507  0.06066596 -0.04264389\n",
      "   0.62345261  0.36389939 -0.24329322  0.05904166]]\n",
      "2\n",
      "f- -64.3783263263903 f+ 14.62881403836272\n",
      "[[ 0.14773715  0.09882064  0.09167069  0.19332988  0.03012757 -0.10467579\n",
      "   0.76324414  0.42177568 -0.37032803  0.04101232]]\n",
      "3\n",
      "f- -21.247692308008528 f+ 11.783186878679562\n",
      "[[-0.0132142  -0.18933822  0.00344439  0.03869517 -0.3907623  -0.37790771\n",
      "  -0.12132711  0.51919036  0.1244498   0.16181059]]\n",
      "4\n",
      "f- -15.75668788754778 f+ 10.18849401814648\n",
      "[[-0.00586133 -0.22091478  0.0133718  -0.0305554  -0.27329852 -0.61897181\n",
      "   0.31570458 -0.16413742  0.38348008  0.05946708]]\n",
      "5\n",
      "f- -9.803972955914556 f+ 7.216382711269211\n",
      "[[-0.19908791  0.10998896 -0.23386096 -0.37191395  0.42365615 -0.43249431\n",
      "   0.1525872   0.02170091  0.06478797 -0.02542802]]\n",
      "6\n",
      "f- -7.073597529578648 f+ 7.216382711269211\n",
      "[[-0.19245196  0.07915001 -0.20537423 -0.32146467  0.32940548 -0.46456737\n",
      "   0.24232773  0.02797903 -0.011679    0.01967427]]\n",
      "7\n",
      "f- -5.854718932117664 f+ 4.86123778370927\n",
      "[[-0.08561704  0.02203696 -0.09171532  0.08177946  0.21364001  0.03845654\n",
      "   0.27815681  0.09373043  0.28930822  0.11713933]]\n",
      "8\n",
      "f- -4.343697409523428 f+ 2.176239360834603\n",
      "[[ 0.04924164  0.0263328   0.06162197  0.1289912   0.12101934 -0.31091558\n",
      "  -0.07640105 -0.07720575 -0.00911593 -0.02467745]]\n",
      "9\n",
      "f- -4.341401955647799 f+ 2.176239360834603\n",
      "[[ 0.04940242  0.02620551  0.06185036  0.12956461  0.12036142 -0.31089515\n",
      "  -0.07530758 -0.07639581 -0.00987753 -0.02539724]]\n",
      "10\n",
      "f- -4.004367076950417 f+ 1.8073374507687199\n",
      "[[ 0.05866248  0.01335532  0.06537905  0.15080515  0.08617508 -0.31899769\n",
      "   0.00723389 -0.06061989 -0.03604521 -0.02339975]]\n",
      "11\n",
      "f- -3.223015160429955 f+ 0.8234395702153914\n",
      "[[-0.20137619 -0.09218239  0.01727421 -0.12463647 -0.01474984 -0.39063932\n",
      "   0.07581093  0.11228467  0.18576084  0.08788128]]\n",
      "12\n",
      "f- -2.4257033130158003 f+ 0.22783248985760407\n",
      "[[-0.17122405 -0.01741831 -0.12828709  0.00151912  0.13144133 -0.23713419\n",
      "   0.24053939  0.16237331  0.09867345  0.06128312]]\n",
      "13\n",
      "f- -1.7517976196148892 f+ 0.22783248985760407\n",
      "[[-0.02689215  0.01442105 -0.02436224  0.10531418  0.14354183 -0.26007471\n",
      "   0.02048318  0.10080522  0.09612606  0.0518966 ]]\n",
      "14\n",
      "f- -1.6206497769731227 f+ -0.6251747849658873\n",
      "[[-0.20568941 -0.1119472   0.18318045  0.23658499  0.04203248  0.00873434\n",
      "   0.08193865  0.01002279 -0.07208747 -0.05652402]]\n",
      "15\n",
      "f- -1.4618652504539695 f+ -0.6251747849658873\n",
      "[[-0.24905343 -0.05271949  0.13407741  0.00383675  0.00361259 -0.22470224\n",
      "   0.07423871  0.09153787 -0.04362742 -0.03497843]]\n",
      "16\n",
      "f- -1.4400703180699392 f+ -0.6251747849658873\n",
      "[[-2.48438079e-01 -5.59380834e-02  1.36753328e-01  4.70110260e-03\n",
      "  -7.33550277e-05 -2.27002097e-01  8.03540901e-02  8.09384058e-02\n",
      "  -4.08402880e-02 -2.51223274e-02]]\n",
      "17\n",
      "f- -1.3846941777805086 f+ -0.6251747849658873\n",
      "[[-0.18819825 -0.00937018  0.03972446  0.09997174  0.03700894 -0.19009167\n",
      "   0.10238249  0.12583131  0.0632916   0.02178407]]\n",
      "18\n",
      "f- -1.2899431999980278 f+ -0.6251747849658873\n",
      "[[-0.16419892 -0.07891277 -0.03411526 -0.05553119  0.04808889 -0.30334264\n",
      "   0.09177527  0.1685249   0.07709996  0.0361271 ]]\n",
      "19\n",
      "f- -1.2778770567427742 f+ -0.6251747849658873\n",
      "[[-0.16354803 -0.0799586  -0.03328872 -0.0543782   0.04650842 -0.30412676\n",
      "   0.09509131  0.16333563  0.07926844  0.04156575]]\n",
      "20\n",
      "f- -1.1218869626564714 f+ -0.6251747849658873\n",
      "[[-0.09178657 -0.04076821 -0.02642783  0.01734953  0.07195073 -0.32287548\n",
      "   0.03808794  0.15144122  0.12044053  0.06699558]]\n",
      "21\n",
      "f- -1.1155755210074296 f+ -0.6251747849658873\n",
      "[[-0.01857038 -0.05221026  0.09230578  0.11457433 -0.03471313 -0.49737821\n",
      "   0.15179374  0.2488592   0.05667988  0.00468469]]\n",
      "22\n",
      "f- -1.0497730997155486 f+ -0.6251747849658873\n",
      "[[-0.06222436 -0.04957353  0.02409416  0.03993668  0.0186518  -0.38734284\n",
      "   0.11079289  0.19568369  0.09817353  0.03868096]]\n",
      "23\n",
      "f- -1.0163105261798109 f+ -0.6251747849658873\n",
      "[[-0.10889403 -0.0088694  -0.00167128  0.03622208  0.07387638 -0.28149817\n",
      "   0.0614181   0.12365915  0.08450704  0.03861145]]\n",
      "24\n",
      "f- -1.01631052620858 f+ -0.7740204936993806\n",
      "[[-0.10639191  0.03630566  0.04068553 -0.0043123   0.03411756 -0.27049673\n",
      "  -0.0003052   0.05869939  0.06038266  0.03331372]]\n",
      "25\n",
      "f- -1.016299335912021 f+ -0.7740204936993806\n",
      "[[-0.1063124   0.03644698  0.0408372  -0.00428914  0.03388617 -0.27046574\n",
      "  -0.00029785  0.05864276  0.06019727  0.03319337]]\n",
      "26\n",
      "f- -0.9942583459339468 f+ -0.7740204936993806\n",
      "[[-0.11380784  0.01219825  0.03020451  0.04634579  0.07029996 -0.28023093\n",
      "   0.08402538  0.13935251  0.07970346  0.03445416]]\n",
      "27\n",
      "f- -0.9810907413143288 f+ -0.7741792702758703\n",
      "[[-0.11991815 -0.05678332 -0.05929413  0.01138121  0.10039898 -0.28504133\n",
      "   0.0660165   0.13792372  0.12893579  0.06645353]]\n",
      "28\n",
      "f- -0.9586699072780558 f+ -0.7741792702758703\n",
      "[[-0.09601617 -0.1638171  -0.08498488  0.1035677   0.03207526 -0.29684034\n",
      "   0.02788383  0.0734518  -0.00706759 -0.01612465]]\n",
      "29\n",
      "f- -0.9456566074187809 f+ -0.7741792702758703\n",
      "[[ 0.00922105 -0.24245783  0.0808577   0.0166251   0.1023273  -0.22038546\n",
      "   0.06111696  0.1125388   0.00517804 -0.00356626]]\n",
      "30\n",
      "f- -0.9277186252872738 f+ -0.7741792702758703\n",
      "[[-0.05222237 -0.1403648   0.00363842  0.04054243  0.05947748 -0.24712362\n",
      "   0.07119197  0.11819555  0.02981606  0.00532593]]\n",
      "31\n",
      "f- -0.9269322413213188 f+ -0.7741792702758703\n",
      "[[-0.05233808 -0.1405059   0.00362199  0.04107366  0.05868609 -0.24733677\n",
      "   0.07222593  0.11659751  0.0307903   0.00698216]]\n",
      "32\n",
      "f- -0.9160132554835774 f+ -0.7741792702758703\n",
      "[[-0.11869685 -0.06264056 -0.00326576  0.031713    0.03087176 -0.26816666\n",
      "   0.08080195  0.12873596  0.05443331  0.01807338]]\n",
      "33\n",
      "f- -0.9046818531588213 f+ -0.7856626505363875\n",
      "[[-0.13991218 -0.06270926 -0.07044321  0.03709512  0.0890224  -0.2429794\n",
      "   0.05091969  0.09993362  0.07077476  0.03337767]]\n",
      "34\n",
      "f- -0.8955254617311965 f+ -0.7856626505363875\n",
      "[[-0.14878238 -0.06679389  0.01143016  0.0068508   0.10401728 -0.27663274\n",
      "   0.0431315   0.11431248  0.08406699  0.04612733]]\n",
      "35\n",
      "f- -0.8899382685856284 f+ -0.7856626505363875\n",
      "[[-0.14709054 -0.03472117 -0.02507043  0.02354253  0.06796348 -0.27710675\n",
      "   0.07915722  0.13902354  0.089357    0.04118796]]\n",
      "36\n",
      "f- -0.8755709997133581 f+ -0.8219164251128479\n",
      "[[-0.12384766 -0.02899136  0.02094856  0.00155795  0.07055681 -0.29314878\n",
      "   0.0707933   0.14459062  0.09640849  0.04795762]]\n",
      "37\n",
      "f- -0.8680755870061689 f+ -0.8219164251128479\n",
      "[[-0.07869227 -0.04185569 -0.01798098  0.04889258  0.08493465 -0.27156802\n",
      "   0.05579248  0.12234208  0.0763299   0.03516555]]\n",
      "38\n",
      "f- -0.8626078333196929 f+ -0.8219164251128479\n",
      "[[-0.10969421 -0.03123455 -0.01585576  0.0483784   0.07959652 -0.25861684\n",
      "   0.0790547   0.13723052  0.0846932   0.03739761]]\n",
      "39\n",
      "f- -0.8583313078206108 f+ -0.8219164251128479\n",
      "[[-0.11176724 -0.03471992  0.00845276  0.02877966  0.07180877 -0.2737273\n",
      "   0.07419455  0.13808421  0.07885907  0.03578805]]\n",
      "40\n",
      "f- -0.8570341175094864 f+ -0.8319327990555667\n",
      "[[-0.12869448 -0.02324866 -0.01214654  0.02873968  0.0490689  -0.29854759\n",
      "   0.05790307  0.12648714  0.07744519  0.03548794]]\n",
      "41\n",
      "f- -0.8523766446753446 f+ -0.8319327990555667\n",
      "[[-0.1317919  -0.03057622 -0.00498278  0.02206273  0.06258037 -0.27818892\n",
      "   0.07549531  0.13912599  0.08503408  0.03902507]]\n",
      "42\n",
      "f- -0.8523766447352904 f+ -0.8352565164794299\n",
      "[[-0.13302693 -0.03156191 -0.00374557  0.01992045  0.06234948 -0.27803678\n",
      "   0.07621245  0.13967493  0.0856559   0.03952553]]\n",
      "43\n",
      "f- -0.8485633617602771 f+ -0.8365681520956997\n",
      "[[-0.11377198 -0.03641609 -0.02317934  0.04274088  0.06277152 -0.2908577\n",
      "   0.07614561  0.14236712  0.08146222  0.03541328]]\n",
      "44\n",
      "f- -0.847103779995337 f+ -0.8365681520956997\n",
      "[[-0.123337   -0.03933555 -0.01464352  0.03060843  0.06985787 -0.27491685\n",
      "   0.07096543  0.13442443  0.08159679  0.03733935]]\n",
      "45\n",
      "f- -0.8467374077131335 f+ -0.8367444192756305\n",
      "[[-0.12327764 -0.04081911 -0.01853578  0.02457784  0.07771634 -0.2810155\n",
      "   0.05550256  0.1245626   0.08485407  0.04165126]]\n",
      "46\n",
      "f- -0.8467374076932237 f+ -0.8367444192756305\n",
      "[[-0.12328262 -0.04086119 -0.01853977  0.02456331  0.07772254 -0.2810548\n",
      "   0.05545798  0.12438753  0.08493922  0.04178875]]\n",
      "47\n"
     ]
    },
    {
     "name": "stdout",
     "output_type": "stream",
     "text": [
      "f- -0.8456450276341074 f+ -0.8367444192756305\n",
      "[[-0.12375652 -0.03827334 -0.013089    0.03184002  0.07408048 -0.27648551\n",
      "   0.07373819  0.13796761  0.0849572   0.03912244]]\n",
      "48\n",
      "f- -0.8448341017657469 f+ -0.8385079946632581\n",
      "[[-0.13133717 -0.02827549 -0.0007041   0.01127888  0.04215972 -0.300183\n",
      "   0.07513103  0.14290705  0.08093958  0.03635342]]\n",
      "49\n",
      "f- -0.8437246554553867 f+ -0.8385079946632581\n",
      "[[-0.12423852 -0.02863682 -0.00049058  0.02457236  0.05772895 -0.28689152\n",
      "   0.07661515  0.14203584  0.08202304  0.03681414]]\n"
     ]
    }
   ],
   "source": [
    "x_iters = level_method()"
   ]
  },
  {
   "cell_type": "code",
   "execution_count": 120,
   "id": "0dfbc0c2",
   "metadata": {},
   "outputs": [
    {
     "name": "stdout",
     "output_type": "stream",
     "text": [
      "<class 'numpy.ndarray'>\n",
      "[5.33790784e+03 1.33730895e+02 1.54702217e+01 1.26245946e+01\n",
      " 1.10299017e+01 8.05779041e+00 1.13931231e+01 5.70264548e+00\n",
      " 3.01764706e+00 6.48239606e+00 2.64874515e+00 1.66484727e+00\n",
      " 1.06924019e+00 1.17457553e+00 2.16232915e-01 1.83195251e+00\n",
      " 1.05246457e+00 8.01996484e-01 2.91296275e-01 4.29935685e-01\n",
      " 2.19156036e-01 3.57797751e-01 9.70746491e-01 2.87119185e-01\n",
      " 6.73872063e-02 5.41624798e-01 1.88159805e-01 6.72284297e-02\n",
      " 1.30324204e-01 4.66320546e-01 6.50632427e-01 1.58181139e-01\n",
      " 1.59160525e-01 5.57450495e-02 1.21959449e-01 6.19002193e-02\n",
      " 1.94912749e-02 3.33826456e-02 2.76845987e-02 2.42710539e-02\n",
      " 9.47490094e-03 1.89038023e-02 6.15118352e-03 4.83954790e-03\n",
      " 1.03523452e-02 4.66328072e-03 1.00255873e-02 9.69780278e-03\n",
      " 2.89970534e-03 1.62807808e-02 3.68658149e-03]\n"
     ]
    },
    {
     "data": {
      "text/plain": [
       "[<matplotlib.lines.Line2D at 0x7fc2e82a8f10>]"
      ]
     },
     "execution_count": 120,
     "metadata": {},
     "output_type": "execute_result"
    },
    {
     "data": {
      "image/png": "[encoded data removed]",
      "text/plain": [
       "<Figure size 432x288 with 1 Axes>"
      ]
     },
     "metadata": {
      "needs_background": "light"
     },
     "output_type": "display_data"
    }
   ],
   "source": [
    "val = [maxquad(x) for x in x_iters] - fstar * np.ones(50 + 1)\n",
    "print(type(val))\n",
    "print(val)\n",
    "plt.plot(np.arange(50), val[1:])"
   ]
  },
  {
   "cell_type": "code",
   "execution_count": 112,
   "id": "284a587a",
   "metadata": {},
   "outputs": [],
   "source": [
    "t = np.array([1])\n",
    "t = np.append(t, 2)"
   ]
  },
  {
   "cell_type": "code",
   "execution_count": 35,
   "id": "99e04273",
   "metadata": {},
   "outputs": [
    {
     "data": {
      "text/plain": [
       "2"
      ]
     },
     "execution_count": 35,
     "metadata": {},
     "output_type": "execute_result"
    }
   ],
   "source": [
    "t[-1]"
   ]
  },
  {
   "cell_type": "code",
   "execution_count": null,
   "id": "41ca333b",
   "metadata": {},
   "outputs": [],
   "source": []
  }
 ],
 "metadata": {
  "kernelspec": {
   "display_name": "Python 3",
   "language": "python",
   "name": "python3"
  },
  "language_info": {
   "codemirror_mode": {
    "name": "ipython",
    "version": 3
   },
   "file_extension": ".py",
   "mimetype": "text/x-python",
   "name": "python",
   "nbconvert_exporter": "python",
   "pygments_lexer": "ipython3",
   "version": "3.8.8"
  }
 },
 "nbformat": 4,
 "nbformat_minor": 5
}
