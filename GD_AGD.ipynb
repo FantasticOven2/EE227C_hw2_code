{
 "cells": [
  {
   "cell_type": "code",
   "execution_count": 1,
   "id": "8b06a418",
   "metadata": {},
   "outputs": [],
   "source": [
    "import cvxpy as cvx\n",
    "import numpy as np\n",
    "import matplotlib.pyplot as plt"
   ]
  },
  {
   "cell_type": "code",
   "execution_count": 2,
   "id": "70803da0",
   "metadata": {},
   "outputs": [],
   "source": [
    "ITER = 200000\n",
    "lr = 1e-6"
   ]
  },
  {
   "cell_type": "code",
   "execution_count": 62,
   "id": "5caf2f92",
   "metadata": {},
   "outputs": [],
   "source": [
    "def AGD(x, A):\n",
    "    z, norm_lst = x, []\n",
    "    lamb, gamma = 1, 0\n",
    "    for i in range(10000):\n",
    "        norm_lst.append(np.linalg.norm(A @ x) ** 2 + 1e-6)\n",
    "        if i > 3:\n",
    "            lamb, gamma = 6 / (i * (i - 1)), 2 / i\n",
    "        y = lr * ((1 - gamma) * x + gamma * z)\n",
    "        f_grad = 2 * A.T @ A @ y\n",
    "        z = lr * (z - (gamma / lamb) * f_grad)\n",
    "        x = y - f_grad\n",
    "    return x, norm_lst"
   ]
  },
  {
   "cell_type": "code",
   "execution_count": 63,
   "id": "aab22498",
   "metadata": {},
   "outputs": [
    {
     "data": {
      "text/plain": [
       "(20, 20)"
      ]
     },
     "execution_count": 63,
     "metadata": {},
     "output_type": "execute_result"
    }
   ],
   "source": [
    "A = np.random.normal(0, 1, (20, 20))\n",
    "A.shape"
   ]
  },
  {
   "cell_type": "code",
   "execution_count": 64,
   "id": "3fe6fd48",
   "metadata": {},
   "outputs": [],
   "source": [
    "x_AGD, AGD_norm_lst = AGD(np.ones((20,)), A)"
   ]
  },
  {
   "cell_type": "code",
   "execution_count": 65,
   "id": "b0a28343",
   "metadata": {},
   "outputs": [],
   "source": [
    "def GD(x, A):\n",
    "    norm_lst = []\n",
    "    for _ in range(10000):\n",
    "        norm_lst.append(np.linalg.norm(A @ x) ** 2)\n",
    "        x = x - 1e-3 * 2 * A.T @ A @ x\n",
    "    return x, norm_lst"
   ]
  },
  {
   "cell_type": "code",
   "execution_count": 66,
   "id": "2807c7b4",
   "metadata": {},
   "outputs": [],
   "source": [
    "x_GD, GD_norm_lst = GD(np.ones((20,)), A)"
   ]
  },
  {
   "cell_type": "code",
   "execution_count": 87,
   "id": "c80ed415",
   "metadata": {},
   "outputs": [
    {
     "data": {
      "text/plain": [
       "Text(0.5, 1.0, 'loglog')"
      ]
     },
     "execution_count": 87,
     "metadata": {},
     "output_type": "execute_result"
    },
    {
     "data": {
      "image/png": "[encoded data removed]",
      "text/plain": [
       "<Figure size 432x288 with 1 Axes>"
      ]
     },
     "metadata": {
      "needs_background": "light"
     },
     "output_type": "display_data"
    }
   ],
   "source": [
    "fig = plt.figure(figsize=(6, 4))\n",
    "ax = plt.axes()\n",
    "\n",
    "x = np.arange(0, 50)\n",
    "ax.loglog(np.arange(10000), GD_norm_lst, label='GD')\n",
    "ax.loglog(np.arange(10000), AGD_norm_lst, label='AGD')\n",
    "ax.legend()\n",
    "ax.set_xlabel('num_iteration')\n",
    "ax.set_ylabel('norm square')\n",
    "ax.set_title('loglog')"
   ]
  },
  {
   "cell_type": "code",
   "execution_count": 73,
   "id": "abb5c435",
   "metadata": {},
   "outputs": [
    {
     "data": {
      "text/plain": [
       "0.0004157828402733921"
      ]
     },
     "execution_count": 73,
     "metadata": {},
     "output_type": "execute_result"
    }
   ],
   "source": [
    "np.linalg.norm(A @ x_GD) ** 2"
   ]
  },
  {
   "cell_type": "code",
   "execution_count": 74,
   "id": "523a4bb4",
   "metadata": {},
   "outputs": [
    {
     "data": {
      "text/plain": [
       "0.0"
      ]
     },
     "execution_count": 74,
     "metadata": {},
     "output_type": "execute_result"
    }
   ],
   "source": [
    "np.linalg.norm(A @ x_AGD) ** 2"
   ]
  },
  {
   "cell_type": "code",
   "execution_count": 78,
   "id": "ee1e8c87",
   "metadata": {},
   "outputs": [],
   "source": [
    "def gen_A():\n",
    "    A = np.zeros((20, 20))\n",
    "    for i in range(20):\n",
    "        if i - 1 >= 0:\n",
    "            A[i][i - 1] = -1\n",
    "        if i + 1 <= 19:\n",
    "            A[i][i + 1] = -1\n",
    "        A[i][i] = 2\n",
    "    return A"
   ]
  },
  {
   "cell_type": "code",
   "execution_count": 79,
   "id": "4c3e9392",
   "metadata": {},
   "outputs": [],
   "source": [
    "A = gen_A()\n",
    "x_2_AGD, AGD_norm_lst = AGD(np.ones(20,), A)"
   ]
  },
  {
   "cell_type": "code",
   "execution_count": 80,
   "id": "434c10ba",
   "metadata": {},
   "outputs": [
    {
     "data": {
      "text/plain": [
       "0.0"
      ]
     },
     "execution_count": 80,
     "metadata": {},
     "output_type": "execute_result"
    }
   ],
   "source": [
    "np.linalg.norm(A @ x_2_AGD) ** 2"
   ]
  },
  {
   "cell_type": "code",
   "execution_count": 81,
   "id": "a64cc6ce",
   "metadata": {},
   "outputs": [],
   "source": [
    "x_2_GD, GD_norm_lst = GD(np.ones(20,), A)"
   ]
  },
  {
   "cell_type": "code",
   "execution_count": 82,
   "id": "fb27a4ea",
   "metadata": {},
   "outputs": [
    {
     "data": {
      "text/plain": [
       "0.023229089360321146"
      ]
     },
     "execution_count": 82,
     "metadata": {},
     "output_type": "execute_result"
    }
   ],
   "source": [
    "np.linalg.norm(A @ x_2_GD) ** 2"
   ]
  },
  {
   "cell_type": "code",
   "execution_count": 88,
   "id": "21b780a2",
   "metadata": {},
   "outputs": [
    {
     "data": {
      "text/plain": [
       "Text(0.5, 1.0, 'loglog scale')"
      ]
     },
     "execution_count": 88,
     "metadata": {},
     "output_type": "execute_result"
    },
    {
     "data": {
      "image/png": "[encoded data removed]",
      "text/plain": [
       "<Figure size 432x288 with 1 Axes>"
      ]
     },
     "metadata": {
      "needs_background": "light"
     },
     "output_type": "display_data"
    }
   ],
   "source": [
    "fig = plt.figure(figsize=(6, 4))\n",
    "ax = plt.axes()\n",
    "\n",
    "x = np.arange(0, 50)\n",
    "ax.loglog(np.arange(10000), GD_norm_lst, label='GD')\n",
    "ax.loglog(np.arange(10000), AGD_norm_lst, label='AGD')\n",
    "ax.legend()\n",
    "ax.set_xlabel('num_iteration')\n",
    "ax.set_ylabel('norm square')\n",
    "ax.set_title('loglog scale')"
   ]
  },
  {
   "cell_type": "code",
   "execution_count": null,
   "id": "fe5bd11e",
   "metadata": {},
   "outputs": [],
   "source": []
  }
 ],
 "metadata": {
  "kernelspec": {
   "display_name": "Python 3",
   "language": "python",
   "name": "python3"
  },
  "language_info": {
   "codemirror_mode": {
    "name": "ipython",
    "version": 3
   },
   "file_extension": ".py",
   "mimetype": "text/x-python",
   "name": "python",
   "nbconvert_exporter": "python",
   "pygments_lexer": "ipython3",
   "version": "3.8.8"
  }
 },
 "nbformat": 4,
 "nbformat_minor": 5
}
