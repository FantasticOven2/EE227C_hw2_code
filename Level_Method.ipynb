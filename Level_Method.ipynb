{
 "cells": [
  {
   "cell_type": "code",
   "execution_count": 1,
   "id": "b4b36a05",
   "metadata": {},
   "outputs": [],
   "source": [
    "import cvxpy as cvx\n",
    "import numpy as np\n",
    "import matplotlib.pyplot as plt"
   ]
  },
  {
   "cell_type": "code",
   "execution_count": 2,
   "id": "70c0f112",
   "metadata": {},
   "outputs": [],
   "source": [
    "e = np.exp(1)\n",
    "d = 10\n",
    "n = 5\n",
    "ITER = 50\n",
    "lamb = .1\n",
    "fstar = -0.8414077"
   ]
  },
  {
   "cell_type": "code",
   "execution_count": 3,
   "id": "70c0a7fd",
   "metadata": {},
   "outputs": [],
   "source": [
    "# Define the maxquad function\n",
    "A = np.zeros((n, d, d))\n",
    "b = np.zeros((n, d))\n",
    "\n",
    "for k in range(1,n+1,1):\n",
    "\tfor i in range(1,d+1,1):\n",
    "\t\tfor j in range(1,d+1,1):\n",
    "\t\t\tif j > i:\n",
    "\t\t\t\tA[k-1,i-1,j-1] = (e**(i/j)) * np.cos(i*j) * np.sin(k)\n",
    "\n",
    "\tfor i in range(1,d+1,1):\n",
    "\t\tfor j in range(1,d+1,1):\n",
    "\t\t\tif j < i:\n",
    "\t\t\t\tA[k-1,i-1,j-1] = A[k-1,j-1,i-1]\n",
    "\t\tb[k-1,i-1] = (e**(i/k)) * np.sin(i*k)\n",
    "\n",
    "\tfor i in range(1,d+1,1):\n",
    "\t\tA[k-1,i-1,i-1] = np.sum(np.abs(A[k-1,i-1,:])) + i/d * np.abs(np.sin(k))"
   ]
  },
  {
   "cell_type": "code",
   "execution_count": 12,
   "id": "fa366b36",
   "metadata": {},
   "outputs": [],
   "source": [
    "# define evaluation of quad(k) on input x\n",
    "def quad(k,x):\n",
    "    return x.T @ A[k,:,:] @ x  - b[k,:] @ x\n",
    "\n",
    "# define maxquad function\n",
    "def maxquad(x):\n",
    "    return max([quad(k,x) for k in np.arange(n)])\n",
    "\n",
    "# define maxquad gradient\n",
    "def maxquad_gradient(x):\n",
    "\tallevals = [quad(k,x) for k in np.arange(n)]\n",
    "\tidx = np.argmax(allevals)\n",
    "\treturn 2*np.transpose(A[idx,:,:]) @ x - b[idx,:]"
   ]
  },
  {
   "cell_type": "code",
   "execution_count": 13,
   "id": "c472901e",
   "metadata": {},
   "outputs": [],
   "source": [
    "# # define evaluation of quad(k) on input x\n",
    "# def quad(k,x):\n",
    "#     return x.T @ A[k,:,:] @ x  - b[k,:] @ x\n",
    "\n",
    "# # define maxquad function\n",
    "# def maxquad(x):\n",
    "#     return cvx.max(cvx.hstack([quad(k,x) for k in np.arange(n)]))\n",
    "\n",
    "# # define maxquad gradient\n",
    "# def maxquad_gradient(x):\n",
    "# \tallevals = [quad(k,x) for k in np.arange(n)]\n",
    "# \tidx = np.argmax(allevals)\n",
    "# \treturn 2*np.transpose(A[idx,:,:]) @ x - b[idx,:]"
   ]
  },
  {
   "cell_type": "code",
   "execution_count": 14,
   "id": "636acd63",
   "metadata": {},
   "outputs": [
    {
     "data": {
      "text/plain": [
       "5337.0664293113605"
      ]
     },
     "execution_count": 14,
     "metadata": {},
     "output_type": "execute_result"
    }
   ],
   "source": [
    "maxquad(np.ones((10,)))"
   ]
  },
  {
   "cell_type": "code",
   "execution_count": 15,
   "id": "39033ead",
   "metadata": {},
   "outputs": [],
   "source": [
    "def f_i(x_lst, x):\n",
    "    return cvx.max(cvx.hstack([maxquad(x_j) + maxquad_gradient(x_j) @ (x - x_j) for x_j in x_lst]))\n",
    "\n",
    "def f_min(x_lst):\n",
    "    return min([maxquad(x_j) for x_j in x_lst])\n",
    "\n",
    "def min_f_i(f_i, x_lst):\n",
    "    x = cvx.Variable(shape=(d,), name = \"x\")\n",
    "    constraint = [cvx.norm(x, 2) <= 1]\n",
    "    obj = cvx.Minimize(f_i(x_lst, x))\n",
    "    prob = cvx.Problem(obj, constraint)\n",
    "    prob.solve()\n",
    "    return obj.value\n",
    "\n",
    "\"\"\"Euclidean projection\"\"\"\n",
    "def projection(x, x_lst, l_i):\n",
    "    y = cvx.Variable(shape=(d,), name = 'y')\n",
    "    obj = cvx.Minimize(cvx.norm(x - y, 2))\n",
    "    constraints = [cvx.norm(y, 2) <= 1, f_i(x_lst, y) <= l_i]\n",
    "    prob = cvx.Problem(obj, constraints)\n",
    "    prob.solve()\n",
    "    return y.value"
   ]
  },
  {
   "cell_type": "code",
   "execution_count": 16,
   "id": "c4414c0a",
   "metadata": {},
   "outputs": [],
   "source": [
    "def level_method():\n",
    "    x_1 = np.ones((10,)) \n",
    "    x_lst = np.array([x_1])\n",
    "    for i in range(ITER):\n",
    "        print(i)\n",
    "        f_minus, f_plus = min_f_i(f_i, x_lst), f_min(x_lst)\n",
    "        print('f-', f_minus, 'f+', f_plus)\n",
    "        l_i = lamb * f_minus + (1 - lamb) * f_plus\n",
    "        x_next = np.array([projection(x_lst[-1], x_lst, l_i)])\n",
    "#         print(l_i)\n",
    "        print(x_next)\n",
    "        x_lst = np.append(x_lst, x_next, axis=0)\n",
    "    return x_lst"
   ]
  },
  {
   "cell_type": "code",
   "execution_count": 17,
   "id": "3ee67731",
   "metadata": {
    "scrolled": true
   },
   "outputs": [
    {
     "name": "stdout",
     "output_type": "stream",
     "text": [
      "0\n",
      "f- -12889.512475110767 f+ 5337.0664293113605\n",
      "[[0.31622816 0.31622816 0.31622816 0.31622812 0.31622805 0.31622807\n",
      "  0.3162287  0.31623042 0.31623072 0.31621909]]\n",
      "1\n",
      "f- -12815.315169709083 f+ 1670.5626286954139\n",
      "[[0.31622909 0.31624572 0.31620074 0.315817   0.31493229 0.3151885\n",
      "  0.32252749 0.34223637 0.34568363 0.21035876]]\n",
      "2\n",
      "f- -12813.320657555369 f+ 222.0843325501626\n",
      "[[0.31622793 0.31626253 0.31617721 0.31544582 0.31376865 0.31425198\n",
      "  0.32819792 0.36564186 0.37218996 0.1150835 ]]\n",
      "3\n",
      "f- -63.71154644275147 f+ 16.881945833536534\n",
      "[[0.31574804 0.31395247 0.31369258 0.315779   0.31025521 0.3089051\n",
      "  0.33610998 0.35866755 0.34846763 0.15817506]]\n",
      "4\n",
      "f- -63.162265050771104 f+ 8.847685919992534\n",
      "[[0.31490905 0.30987196 0.30929147 0.31626993 0.30347057 0.29908263\n",
      "  0.3526665  0.3570889  0.31887345 0.19024793]]\n",
      "5\n",
      "f- -29.702582016802207 f+ 8.788867331880116\n",
      "[[0.25206071 0.26352381 0.27523067 0.29063287 0.2326415  0.21042872\n",
      "  0.26753519 0.30874045 0.28904398 0.13523495]]\n",
      "6\n",
      "f- -22.903034378885884 f+ 5.684404727111046\n",
      "[[0.20894523 0.24944643 0.23718542 0.2553511  0.21453698 0.14298385\n",
      "  0.23983043 0.30000516 0.18133024 0.13422703]]\n",
      "7\n",
      "f- -18.90347467976461 f+ 3.851515066401911\n",
      "[[0.15263194 0.20181287 0.210112   0.23466589 0.15325163 0.07493568\n",
      "  0.16722077 0.26463709 0.17622429 0.08960883]]\n",
      "8\n",
      "f- -15.427817494909698 f+ 2.185319718097295\n",
      "[[0.11128117 0.18043333 0.17909624 0.20633204 0.13134484 0.01921169\n",
      "  0.13645227 0.25319861 0.10220662 0.09680513]]\n",
      "9\n",
      "f- -11.973959634693793 f+ 2.185319718097295\n",
      "[[ 0.10455918  0.1768195   0.17326981  0.19377328  0.13817834 -0.00325915\n",
      "   0.1517914   0.22143305  0.11854831  0.05014218]]\n",
      "10\n",
      "f- -11.973959634790125 f+ 1.5792302243516279\n",
      "[[ 0.09120015  0.17193432  0.16031032  0.17646887  0.14261711 -0.03313589\n",
      "   0.16244761  0.19430459  0.09668783  0.04029938]]\n",
      "11\n",
      "f- -8.988822615839773 f+ 0.7100610806555985\n",
      "[[ 0.04890608  0.12383956  0.13920117  0.16322254  0.09143578 -0.0803361\n",
      "   0.1241876   0.15847864  0.11334403  0.04683957]]\n",
      "12\n",
      "f- -6.9122873216931815 f+ 0.34247503831425097\n",
      "[[ 0.02311542  0.11416125  0.11357511  0.1310617   0.10016866 -0.12336217\n",
      "   0.13067798  0.13439365  0.0738857   0.04185239]]\n",
      "13\n",
      "f- -5.34839366753147 f+ -0.12530868809955376\n",
      "[[-0.01839031  0.0812847   0.08624336  0.10463324  0.07798874 -0.16180074\n",
      "   0.09247675  0.13273849  0.07236187  0.0292002 ]]\n",
      "14\n",
      "f- -4.325871831609199 f+ -0.4784410467787744\n",
      "[[-0.0556087   0.05624188  0.05448378  0.06943758  0.07542413 -0.20666044\n",
      "   0.08100664  0.1208273   0.05252955  0.02272646]]\n",
      "15\n",
      "f- -2.96869511684898 f+ -0.6165721271167005\n",
      "[[-0.07856346  0.03157792  0.03986293  0.05900408  0.06139953 -0.22136426\n",
      "   0.06011354  0.12952709  0.06451803  0.02370765]]\n",
      "16\n",
      "f- -2.898171690855357 f+ -0.6165721271167005\n",
      "[[-0.07918388  0.02886137  0.03988361  0.05965321  0.0591528  -0.22352478\n",
      "   0.06385142  0.12373612  0.06676278  0.02963302]]\n",
      "17\n",
      "f- -2.7403763449319833 f+ -0.6165721271167005\n",
      "[[-0.08006948  0.02717816  0.03917707  0.05829199  0.05963118 -0.22730819\n",
      "   0.06946243  0.11626011  0.06948261  0.02849296]]\n",
      "18\n",
      "f- -2.1373105694142343 f+ -0.7251943184536502\n",
      "[[-0.10675217  0.00334415  0.01619665  0.035998    0.06260211 -0.25291855\n",
      "   0.06875996  0.11937671  0.06759995  0.02979623]]\n",
      "19\n",
      "f- -1.527860882163193 f+ -0.7886016351044609\n",
      "[[-0.12424091 -0.01910853  0.00262703  0.0275684   0.06149375 -0.26697283\n",
      "   0.06796325  0.12905335  0.0804051   0.03624511]]\n",
      "20\n",
      "f- -1.5228240643282343 f+ -0.7886016351044609\n",
      "[[-0.1242103  -0.01937351  0.00274428  0.02777696  0.06121048 -0.26709291\n",
      "   0.06843706  0.12838662  0.08077066  0.03695431]]\n",
      "21\n",
      "f- -1.226473036023854 f+ -0.8197685245471136\n",
      "[[-0.13446303 -0.03432218 -0.00942532  0.02031263  0.06846303 -0.28028586\n",
      "   0.07420005  0.13921861  0.08554362  0.04009029]]\n",
      "22\n",
      "f- -0.9470700370111058 f+ -0.8297926741405939\n",
      "[[-0.13439394 -0.03482031 -0.00902621  0.02109299  0.06739669 -0.27971931\n",
      "   0.07333033  0.139608    0.08671627  0.04073252]]\n",
      "23\n",
      "f- -0.9315522250327121 f+ -0.8297926741405939\n",
      "[[-0.13434806 -0.03483981 -0.00898974  0.0210655   0.06746498 -0.27990787\n",
      "   0.07381949  0.13900592  0.08691789  0.0406274 ]]\n",
      "24\n",
      "f- -0.9314828770576471 f+ -0.8297926741405939\n",
      "[[-0.13433838 -0.0348554  -0.00897461  0.02108596  0.06744205 -0.2799186\n",
      "   0.07387322  0.13892993  0.0869408   0.04069424]]\n",
      "25\n",
      "f- -0.9305808412409328 f+ -0.8398986224366007\n",
      "[[-0.11080971 -0.0581934  -0.01169835  0.05121185  0.07955971 -0.30178345\n",
      "   0.09124021  0.16225811  0.08826934  0.03844484]]\n",
      "26\n",
      "f- -0.9301333990720704 f+ -0.8398986224366007\n",
      "[[-0.11077565 -0.05826168 -0.01163021  0.051307    0.0794427  -0.30179898\n",
      "   0.09139458  0.16200174  0.08839642  0.03868768]]\n",
      "27\n",
      "f- -0.8752511199196906 f+ -0.8398986224366007\n",
      "[[-0.11287683 -0.04988652 -0.01081809  0.03874601  0.07143506 -0.28860972\n",
      "   0.08087792  0.14785328  0.08217294  0.03621451]]\n",
      "28\n",
      "f- -0.8605729297795267 f+ -0.8398986224366007\n",
      "[[-0.11508466 -0.04830486 -0.01073297  0.03532747  0.06951863 -0.28556503\n",
      "   0.07867645  0.1450617   0.08272645  0.03681952]]\n",
      "29\n",
      "f- -0.8465443861354524 f+ -0.8398986224366007\n",
      "[[-0.11754518 -0.0459735  -0.01083398  0.03176373  0.06918286 -0.28331544\n",
      "   0.07746365  0.14325742  0.08261848  0.03709271]]\n",
      "30\n",
      "f- -0.8464389182407415 f+ -0.8398986224366007\n",
      "[[-0.1175426  -0.04598286 -0.01082416  0.03177526  0.06916493 -0.28331649\n",
      "   0.07748606  0.14321823  0.08263833  0.03712981]]\n",
      "31\n",
      "f- -0.8455202063315261 f+ -0.8398986224366007\n",
      "[[-0.11866792 -0.04481115 -0.01062263  0.03053106  0.06884554 -0.28231945\n",
      "   0.07691423  0.14243791  0.08298246  0.03743918]]\n",
      "32\n",
      "f- -0.8455137121683074 f+ -0.8398986224366007\n",
      "[[-0.11881292 -0.04465516 -0.01059914  0.03036394  0.06881815 -0.28220514\n",
      "   0.07686083  0.14232124  0.08301922  0.03746895]]\n",
      "33\n",
      "f- -0.8455137123095594 f+ -0.8399849680316201\n",
      "[[-0.11948252 -0.04385372 -0.01045866  0.02966258  0.06870455 -0.28170935\n",
      "   0.07655503  0.14189634  0.0831435   0.03760965]]\n",
      "34\n",
      "f- -0.8455137123192353 f+ -0.8403540652886119\n",
      "[[-0.12032146 -0.04286183 -0.01026985  0.02880097  0.06853419 -0.28107892\n",
      "   0.07616924  0.14134594  0.08333861  0.03780668]]\n",
      "35\n",
      "f- -0.8450042328627232 f+ -0.8405859338238837\n",
      "[[-0.12133722 -0.04154856 -0.00993502  0.02793726  0.06830335 -0.28040595\n",
      "   0.07569829  0.1407187   0.08357732  0.03803707]]\n",
      "36\n",
      "f- -0.8446910675779454 f+ -0.8408580086282723\n",
      "[[-0.12250121 -0.0399461  -0.00948508  0.02706256  0.06806599 -0.27972213\n",
      "   0.07518964  0.14003488  0.08378704  0.03825956]]\n",
      "37\n",
      "f- -0.8446910675590914 f+ -0.8408580086282723\n",
      "[[-0.12250177 -0.03994576 -0.00948391  0.02706304  0.06806433 -0.2797218\n",
      "   0.07519113  0.14003126  0.08378889  0.03826275]]\n",
      "38\n",
      "f- -0.8438698037217992 f+ -0.8410951857489275\n",
      "[[-0.1236689  -0.03824641 -0.00889177  0.02642592  0.06780328 -0.27913345\n",
      "   0.07472015  0.13940027  0.08398024  0.03846107]]\n",
      "39\n",
      "f- -0.8438527693030516 f+ -0.8411945774353639\n",
      "[[-0.12431871 -0.03730472 -0.00856793  0.02607486  0.06766338 -0.27881878\n",
      "   0.07447548  0.13905332  0.08408452  0.03856674]]\n",
      "40\n",
      "f- -0.8437539724003387 f+ -0.8412649796453208\n",
      "[[-0.12545155 -0.03557854 -0.00786371  0.02571156  0.06743647 -0.27838339\n",
      "   0.07412074  0.13854699  0.08418581  0.03869156]]\n",
      "41\n",
      "f- -0.8437539710745576 f+ -0.8412649796453208\n",
      "[[-0.12545222 -0.03557788 -0.00786235  0.0257123   0.06743492 -0.27838319\n",
      "   0.07412215  0.1385437   0.08418747  0.03869446]]\n",
      "42\n",
      "f- -0.8435346785305102 f+ -0.8412911482370544\n",
      "[[-0.12740142 -0.03227722 -0.00560408  0.02686659  0.06706021 -0.27830078\n",
      "   0.07409574  0.13826085  0.08397181  0.03855457]]\n",
      "43\n",
      "f- -0.8435346753215458 f+ -0.8412911482370544\n",
      "[[-0.12740135 -0.03227751 -0.00560351  0.02686727  0.06705942 -0.27830089\n",
      "   0.07409674  0.13825919  0.0839727   0.03855617]]\n",
      "44\n",
      "f- -0.8420818268772547 f+ -0.8413295392498102\n",
      "[[-0.12740132 -0.03227654 -0.00560434  0.02686602  0.06706125 -0.27830192\n",
      "   0.07409873  0.13825856  0.08396831  0.0385585 ]]\n",
      "45\n",
      "f- -0.8419468739005523 f+ -0.8413295392498102\n",
      "[[-0.12740126 -0.03227616 -0.00560457  0.02686529  0.06706233 -0.27830279\n",
      "   0.07410036  0.138257    0.08396827  0.03855681]]\n",
      "46\n",
      "f- -0.8417676460435733 f+ -0.8413562964319508\n",
      "[[-0.12709796 -0.03301557 -0.00600333  0.02662625  0.06713376 -0.27824668\n",
      "   0.07414958  0.13832835  0.08397945  0.03855961]]\n",
      "47\n",
      "f- -0.8417676460717114 f+ -0.8413886049432715\n",
      "[[-0.1267172  -0.03394307 -0.00650187  0.02632769  0.06722176 -0.27817726\n",
      "   0.07421708  0.13841144  0.08399377  0.0385673 ]]\n",
      "48\n",
      "f- -0.8414667713841724 f+ -0.8414014059482977\n"
     ]
    },
    {
     "name": "stdout",
     "output_type": "stream",
     "text": [
      "[[-0.12671719 -0.03394334 -0.00650166  0.02632808  0.06722119 -0.27817695\n",
      "   0.07421659  0.13841167  0.08399444  0.03856761]]\n",
      "49\n",
      "f- -0.8414667714210623 f+ -0.8414014059482977\n",
      "[[-0.12671719 -0.03394335 -0.00650165  0.02632811  0.06722115 -0.27817693\n",
      "   0.07421658  0.13841167  0.08399443  0.03856771]]\n"
     ]
    }
   ],
   "source": [
    "x_iters = level_method()"
   ]
  },
  {
   "cell_type": "code",
   "execution_count": 18,
   "id": "0dfbc0c2",
   "metadata": {},
   "outputs": [
    {
     "name": "stdout",
     "output_type": "stream",
     "text": [
      "<class 'numpy.ndarray'>\n",
      "[5.33790784e+03 1.67140404e+03 2.22925740e+02 1.77233535e+01\n",
      " 9.68909362e+00 9.63027503e+00 6.52581243e+00 4.69292277e+00\n",
      " 3.02672742e+00 3.97005943e+00 2.42063792e+00 1.55146878e+00\n",
      " 1.18388274e+00 7.16099012e-01 3.62966653e-01 2.24835573e-01\n",
      " 8.96577354e-01 2.65715652e-01 1.16213382e-01 5.28060649e-02\n",
      " 8.00756554e-02 2.16391755e-02 1.16150259e-02 2.15822265e-02\n",
      " 1.22515318e-02 1.50907756e-03 2.74107045e-02 2.43757351e-02\n",
      " 7.46964623e-03 7.61418231e-03 6.08731857e-03 2.15496210e-03\n",
      " 1.59850146e-03 1.42273197e-03 1.05363471e-03 8.21766176e-04\n",
      " 5.49691372e-04 5.89187919e-04 3.12514251e-04 2.13122565e-04\n",
      " 1.42720355e-04 2.83467648e-04 1.16551763e-04 1.17526201e-04\n",
      " 7.81607502e-05 1.06030947e-04 5.14035680e-05 1.90950567e-05\n",
      " 6.29405170e-06 1.35889585e-05 6.24260367e-06]\n"
     ]
    },
    {
     "data": {
      "text/plain": [
       "Text(0.5, 1.0, 'num iterations vs. suboptimality gap')"
      ]
     },
     "execution_count": 18,
     "metadata": {},
     "output_type": "execute_result"
    },
    {
     "data": {
      "image/png": "[encoded data removed]",
      "text/plain": [
       "<Figure size 432x288 with 1 Axes>"
      ]
     },
     "metadata": {
      "needs_background": "light"
     },
     "output_type": "display_data"
    }
   ],
   "source": [
    "val = [maxquad(x) for x in x_iters] - fstar * np.ones(50 + 1)\n",
    "print(type(val))\n",
    "print(val)\n",
    "plt.plot(np.arange(50), val[1:])\n",
    "plt.xlabel('num iterations')\n",
    "plt.ylabel('suboptimality gap')\n",
    "plt.title('num iterations vs. suboptimality gap')"
   ]
  },
  {
   "cell_type": "code",
   "execution_count": 19,
   "id": "8282c890",
   "metadata": {},
   "outputs": [],
   "source": [
    "t = np.array([1])\n",
    "t = np.append(t, 2)"
   ]
  },
  {
   "cell_type": "code",
   "execution_count": null,
   "id": "81a1b30e",
   "metadata": {},
   "outputs": [],
   "source": []
  },
  {
   "cell_type": "code",
   "execution_count": null,
   "id": "b186fd9a",
   "metadata": {},
   "outputs": [],
   "source": []
  },
  {
   "cell_type": "code",
   "execution_count": null,
   "id": "231195af",
   "metadata": {},
   "outputs": [],
   "source": []
  }
 ],
 "metadata": {
  "kernelspec": {
   "display_name": "Python 3",
   "language": "python",
   "name": "python3"
  },
  "language_info": {
   "codemirror_mode": {
    "name": "ipython",
    "version": 3
   },
   "file_extension": ".py",
   "mimetype": "text/x-python",
   "name": "python",
   "nbconvert_exporter": "python",
   "pygments_lexer": "ipython3",
   "version": "3.8.8"
  }
 },
 "nbformat": 4,
 "nbformat_minor": 5
}
